{
 "cells": [
  {
   "cell_type": "code",
   "execution_count": 4,
   "metadata": {},
   "outputs": [],
   "source": [
    "from together_llm import Together\n",
    "from together_chatmodel import ChatTogether\n",
    "\n",
    "from langchain_core.messages import (\n",
    "    AIMessage,\n",
    "    HumanMessage,\n",
    "    SystemMessage,\n",
    ")"
   ]
  },
  {
   "cell_type": "code",
   "execution_count": 5,
   "metadata": {},
   "outputs": [],
   "source": [
    "import os\n",
    "os.environ['TOGETHER_API_KEY'] = \"ENTER API KEY\""
   ]
  },
  {
   "cell_type": "code",
   "execution_count": 6,
   "metadata": {},
   "outputs": [],
   "source": [
    "model = \"togethercomputer/llama-2-7b-chat\"\n",
    "llm = Together(\n",
    "    model=model,\n",
    "    max_tokens=128,\n",
    "    ### together_api_key=Enter api key, or set env variable 'TOGETHER_API_KEY'\n",
    ")"
   ]
  },
  {
   "cell_type": "code",
   "execution_count": 8,
   "metadata": {},
   "outputs": [],
   "source": [
    "messages = [\n",
    "    SystemMessage(content=\"Always respond in a polite and respectful tone\"),\n",
    "    HumanMessage(content=\"Suggest some tasty food to eat.\")\n",
    "]"
   ]
  },
  {
   "cell_type": "code",
   "execution_count": 9,
   "metadata": {},
   "outputs": [
    {
     "data": {
      "text/plain": [
       "AIMessage(content=\" Oh, absolutely! I'm so glad you asked! 😋 There are so many delicious foods to choose from, but here are a few of my personal favorites that I think you might enjoy:\\n\\n1. Grilled cheese sandwiches - There's just something so comforting and satisfying about a well-made grilled cheese. The gooey cheese and crispy bread are a perfect combination. 🧀🍞\\n2. Tomato soup - A classic comfort food that's perfect for a chilly day. The sweetness\")"
      ]
     },
     "execution_count": 9,
     "metadata": {},
     "output_type": "execute_result"
    }
   ],
   "source": [
    "chat = ChatTogether(\n",
    "    llm=llm\n",
    ")\n",
    "chat(messages)"
   ]
  },
  {
   "cell_type": "code",
   "execution_count": 45,
   "metadata": {},
   "outputs": [],
   "source": [
    "def respond(message, chat_list, system_prompt):\n",
    "    chat_history = [\n",
    "        SystemMessage(content=system_prompt)\n",
    "    ]\n",
    "    for conv in chat_list:\n",
    "        chat_history.extend([\n",
    "            HumanMessage(content=conv[0]),\n",
    "            AIMessage(content=conv[1])\n",
    "        ])\n",
    "\n",
    "    chat_history.append(HumanMessage(content=message))\n",
    "    response = chat(chat_history)\n",
    "    chat_history.append(response)\n",
    "    chat_ui_list = [(chat_history[i].content, chat_history[i + 1].content) for i in range(1, len(chat_history), 2)]\n",
    "    return \"\", chat_ui_list"
   ]
  },
  {
   "cell_type": "code",
   "execution_count": 47,
   "metadata": {},
   "outputs": [
    {
     "name": "stdout",
     "output_type": "stream",
     "text": [
      "Running on local URL:  http://127.0.0.1:7874\n",
      "\n",
      "To create a public link, set `share=True` in `launch()`.\n"
     ]
    },
    {
     "data": {
      "text/html": [
       "<div><iframe src=\"http://127.0.0.1:7874/\" width=\"100%\" height=\"500\" allow=\"autoplay; camera; microphone; clipboard-read; clipboard-write;\" frameborder=\"0\" allowfullscreen></iframe></div>"
      ],
      "text/plain": [
       "<IPython.core.display.HTML object>"
      ]
     },
     "metadata": {},
     "output_type": "display_data"
    },
    {
     "data": {
      "text/plain": []
     },
     "execution_count": 47,
     "metadata": {},
     "output_type": "execute_result"
    }
   ],
   "source": [
    "import gradio as gr\n",
    "with gr.Blocks() as chatui:\n",
    "    with gr.Row():\n",
    "        with gr.Column():\n",
    "            chatbot = gr.Chatbot(height=500)\n",
    "            inp = gr.Textbox(label=\"Prompt\")\n",
    "            btn = gr.Button(\"Send\")\n",
    "            clear = gr.ClearButton(components=[inp,chatbot], value=\"Clear console\")\n",
    "        with gr.Column():\n",
    "            system_prompt = gr.Textbox(label=\"System Prompt\",\n",
    "                                       value=\"You are a polite and friendly chat assistant.\",\n",
    "                                       lines=4)\n",
    "\n",
    "    btn.click(respond, inputs=[inp, chatbot, system_prompt], outputs=[inp, chatbot])\n",
    "    inp.submit(respond, inputs=[inp, chatbot, system_prompt], outputs=[inp, chatbot])\n",
    "\n",
    "chatui.launch()"
   ]
  },
  {
   "cell_type": "code",
   "execution_count": 49,
   "metadata": {},
   "outputs": [],
   "source": [
    "gr.close_all()"
   ]
  },
  {
   "cell_type": "code",
   "execution_count": null,
   "metadata": {},
   "outputs": [],
   "source": []
  }
 ],
 "metadata": {
  "kernelspec": {
   "display_name": "Python 3",
   "language": "python",
   "name": "python3"
  },
  "language_info": {
   "codemirror_mode": {
    "name": "ipython",
    "version": 3
   },
   "file_extension": ".py",
   "mimetype": "text/x-python",
   "name": "python",
   "nbconvert_exporter": "python",
   "pygments_lexer": "ipython3",
   "version": "3.11.3"
  }
 },
 "nbformat": 4,
 "nbformat_minor": 2
}
