{
 "cells": [
  {
   "cell_type": "code",
   "execution_count": 1,
   "metadata": {},
   "outputs": [],
   "source": [
    "from together_llm import Together"
   ]
  },
  {
   "cell_type": "code",
   "execution_count": 2,
   "metadata": {},
   "outputs": [],
   "source": [
    "model = \"togethercomputer/llama-2-7b-chat\""
   ]
  },
  {
   "cell_type": "code",
   "execution_count": 3,
   "metadata": {},
   "outputs": [],
   "source": [
    "llm = Together(\n",
    "    model=model,\n",
    "    max_tokens=128\n",
    ")"
   ]
  },
  {
   "cell_type": "code",
   "execution_count": 4,
   "metadata": {},
   "outputs": [],
   "source": [
    "# llm.invoke(\"What is a sandwich\")"
   ]
  },
  {
   "cell_type": "code",
   "execution_count": null,
   "metadata": {},
   "outputs": [],
   "source": []
  },
  {
   "cell_type": "code",
   "execution_count": 5,
   "metadata": {},
   "outputs": [],
   "source": [
    "from together_chatmodel import ChatTogether"
   ]
  },
  {
   "cell_type": "code",
   "execution_count": 6,
   "metadata": {},
   "outputs": [],
   "source": [
    "from langchain.prompts import ChatPromptTemplate"
   ]
  },
  {
   "cell_type": "code",
   "execution_count": 7,
   "metadata": {},
   "outputs": [],
   "source": [
    "template_string = \"\"\"Translate the text \\\n",
    "that is delimited by triple backticks \\\n",
    "into a style that is {style}. \\\n",
    "text: ```{text}```\n",
    "\"\"\"\n",
    "prompt_template = ChatPromptTemplate.from_template(template_string)\n"
   ]
  },
  {
   "cell_type": "code",
   "execution_count": 8,
   "metadata": {},
   "outputs": [],
   "source": [
    "customer_style = \"\"\"American English \\\n",
    "in a calm and respectful tone\n",
    "\"\"\"\n",
    "customer_email = \"\"\"\n",
    "Arrr, I be fuming that me blender lid \\\n",
    "flew off and splattered me kitchen walls \\\n",
    "with smoothie! And to make matters worse, \\\n",
    "the warranty don't cover the cost of \\\n",
    "cleaning up me kitchen. I need yer help \\\n",
    "right now, matey!\n",
    "\"\"\""
   ]
  },
  {
   "cell_type": "code",
   "execution_count": 9,
   "metadata": {},
   "outputs": [],
   "source": [
    "customer_messages = prompt_template.format_messages(\n",
    "                    style=customer_style,\n",
    "                    text=customer_email)"
   ]
  },
  {
   "cell_type": "code",
   "execution_count": 10,
   "metadata": {},
   "outputs": [],
   "source": [
    "chat = ChatTogether(\n",
    "    llm=llm\n",
    ")"
   ]
  },
  {
   "cell_type": "code",
   "execution_count": 11,
   "metadata": {},
   "outputs": [
    {
     "name": "stdout",
     "output_type": "stream",
     "text": [
      "In chatmodel generate\n",
      "got llm input\n",
      "Sending payload to:  https://api.together.xyz/v1/chat/completions\n",
      "Payload:  {'model': 'togethercomputer/llama-2-7b-chat', 'max_tokens': 128, 'messages': [{'role': 'user', 'content': \"Translate the text that is delimited by triple backticks into a style that is American English in a calm and respectful tone\\n. text: ```\\nArrr, I be fuming that me blender lid flew off and splattered me kitchen walls with smoothie! And to make matters worse, the warranty don't cover the cost of cleaning up me kitchen. I need yer help right now, matey!\\n```\\n\"}]}\n"
     ]
    },
    {
     "name": "stdout",
     "output_type": "stream",
     "text": [
      "Response:  {'id': '853c5e3939482e85-HYD', 'object': 'chat.completion', 'created': 1707652163, 'model': 'togethercomputer/llama-2-7b-chat', 'prompt': [], 'choices': [{'finish_reason': 'length', 'logprobs': None, 'index': 0, 'message': {'role': 'assistant', 'content': ' Sure thing! Here\\'s the translation of the text into American English in a calm and respectful tone:\\n\\n\"Oh no, I\\'m absolutely livid that my blender lid flew off and splattered my kitchen walls with smoothie! And to make matters worse, the warranty doesn\\'t cover the cost of cleaning up my kitchen. I could really use your help right now, friend!\"\\n\\nIn this version, I\\'ve tried to maintain the playful, informal tone of the original text while using more traditional American English phrasing and vocabulary. I\\'ve'}}], 'usage': {'prompt_tokens': 106, 'completion_tokens': 128, 'total_tokens': 234}}\n",
      "Got llm response:  {'id': '853c5e3939482e85-HYD', 'object': 'chat.completion', 'created': 1707652163, 'model': 'togethercomputer/llama-2-7b-chat', 'prompt': [], 'choices': [{'finish_reason': 'length', 'logprobs': None, 'index': 0, 'message': {'role': 'assistant', 'content': ' Sure thing! Here\\'s the translation of the text into American English in a calm and respectful tone:\\n\\n\"Oh no, I\\'m absolutely livid that my blender lid flew off and splattered my kitchen walls with smoothie! And to make matters worse, the warranty doesn\\'t cover the cost of cleaning up my kitchen. I could really use your help right now, friend!\"\\n\\nIn this version, I\\'ve tried to maintain the playful, informal tone of the original text while using more traditional American English phrasing and vocabulary. I\\'ve'}}], 'usage': {'prompt_tokens': 106, 'completion_tokens': 128, 'total_tokens': 234}}\n"
     ]
    },
    {
     "data": {
      "text/plain": [
       "AIMessage(content=' Sure thing! Here\\'s the translation of the text into American English in a calm and respectful tone:\\n\\n\"Oh no, I\\'m absolutely livid that my blender lid flew off and splattered my kitchen walls with smoothie! And to make matters worse, the warranty doesn\\'t cover the cost of cleaning up my kitchen. I could really use your help right now, friend!\"\\n\\nIn this version, I\\'ve tried to maintain the playful, informal tone of the original text while using more traditional American English phrasing and vocabulary. I\\'ve')"
      ]
     },
     "execution_count": 11,
     "metadata": {},
     "output_type": "execute_result"
    }
   ],
   "source": [
    "chat(customer_messages)"
   ]
  }
 ],
 "metadata": {
  "kernelspec": {
   "display_name": "Python 3",
   "language": "python",
   "name": "python3"
  },
  "language_info": {
   "codemirror_mode": {
    "name": "ipython",
    "version": 3
   },
   "file_extension": ".py",
   "mimetype": "text/x-python",
   "name": "python",
   "nbconvert_exporter": "python",
   "pygments_lexer": "ipython3",
   "version": "3.11.3"
  }
 },
 "nbformat": 4,
 "nbformat_minor": 2
}
